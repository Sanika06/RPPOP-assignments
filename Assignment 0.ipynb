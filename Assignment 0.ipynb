{
 "cells": [
  {
   "cell_type": "markdown",
   "id": "9e9fc933",
   "metadata": {},
   "source": [
    "<div align=\"center\">\n",
    "    <h1>Assignment 0</h1>\n",
    "    <h3>\n",
    "        <ol>\n",
    "            <li>Design and implement a class representing a rectangle and operations like area, perimeter, change dimensions, report dimensions, on it. Write code to test your classes. </li>\n",
    "        </ol>\n",
    "    </h3>\n",
    "</div>"
   ]
  },
  {
   "cell_type": "code",
   "execution_count": 10,
   "id": "0b42ff96",
   "metadata": {},
   "outputs": [
    {
     "name": "stdout",
     "output_type": "stream",
     "text": [
      "Perimeter is: 60\n",
      "Area is:  200\n",
      "Length is:  5\n",
      "Breadth is:  10\n"
     ]
    }
   ],
   "source": [
    "# 1. Design and implement a class representing a rectangle and operations \n",
    "# like area, perimeter, change dimensions, report dimensions, on it. \n",
    "# Write code to test your classes.\n",
    "class Poly:\n",
    "    def __init__(self, *args):\n",
    "        self.parameters=[]\n",
    "        for arg in args:\n",
    "            self.parameters.append(arg)\n",
    "            \n",
    "    def perimeter(self):\n",
    "        sum = 0\n",
    "        for arg in self.parameters:\n",
    "            sum = sum + arg\n",
    "        return sum\n",
    "    \n",
    "    def changeAllDimensions(self, *args):\n",
    "        for (i, arg) in zip(range(len(self.parameters)), args):\n",
    "            self.parameters[i] = arg\n",
    "\n",
    "    def displayParameters(self):\n",
    "        printf(\"Parameters are: \")\n",
    "        for arg in self.parameters:\n",
    "            print(arg)\n",
    "            print()\n",
    "\n",
    "class Rectangle(Poly):\n",
    "    def __init__(self, length, breadth):\n",
    "        self.length = length\n",
    "        self.breadth = breadth\n",
    "    def perimeter(self):\n",
    "        return 2*(self.length + self.breadth)\n",
    "    def area(self):\n",
    "        return self.length * self.breadth\n",
    "    def changeDimensions(self, l, b):\n",
    "        self.length = l\n",
    "        self.breadth = b\n",
    "    def displayParameters(self):\n",
    "        print(\"Length is: \", self.length)\n",
    "        print(\"Breadth is: \", self.breadth)\n",
    "        \n",
    "        \n",
    "rect = Rectangle(10,20)\n",
    "per = rect.perimeter()\n",
    "a = rect.area()\n",
    "print(f\"Perimeter is: {per}\")\n",
    "print(\"Area is: \", a)\n",
    "rect.changeDimensions(5, 10)\n",
    "rect.displayParameters()"
   ]
  },
  {
   "cell_type": "markdown",
   "id": "7e3d1bf2",
   "metadata": {},
   "source": [
    "<h3 align=\"center\">\n",
    "        2. Design and implement classes representing a polygon shape, and derived classes like rectangle, and square with the same operations as mentioned in assignment above. Write code to test your classes.\n",
    "</h3>\n",
    "<br />"
   ]
  },
  {
   "cell_type": "code",
   "execution_count": 9,
   "id": "8f4d584f",
   "metadata": {},
   "outputs": [
    {
     "name": "stdout",
     "output_type": "stream",
     "text": [
      "RECTANGLE\n",
      "Parameters are: \n",
      "Perimeter is:  22\n",
      "Area is:  30\n",
      "\n",
      "SQUARE\n",
      "Perimeter is:  20\n",
      "Area is:  25\n"
     ]
    }
   ],
   "source": [
    "# 2. Design and implement classes representing a polygon shape, and derived classes \n",
    "# like rectangle, and square with the same operations as mentioned in assignment above. \n",
    "# Write code to test your classes.\n",
    " \n",
    "class Polygon:\n",
    "    def __init__(self, *args):\n",
    "#         self.sides = len(args)\n",
    "        self.parameters=[]\n",
    "        for arg in args:\n",
    "            self.parameters.append(arg)\n",
    "            \n",
    "    def perimeter(self):\n",
    "        sum = 0\n",
    "        for arg in self.parameters:\n",
    "            sum = sum + arg\n",
    "        return sum\n",
    "    \n",
    "    def changeAllDimensions(self, *args):\n",
    "        for (i, arg) in zip(range(len(self.parameters)), args):\n",
    "            self.parameters[i] = arg\n",
    "\n",
    "    def displayParameters(self):\n",
    "        printf(\"Parameters are: \")\n",
    "        for arg in self.parameters:\n",
    "            print(arg)\n",
    "            print()\n",
    "                \n",
    "class Rectangle(Polygon):\n",
    "    def __init__(self, l, b):\n",
    "        super().__init__(l, b, l, b)\n",
    "        self.length = self.parameters[0]\n",
    "        self.breadth = self.parameters[1]\n",
    "    def perimeter(self):\n",
    "        return super().perimeter()\n",
    "    def area(self):\n",
    "        return self.length*self.breadth\n",
    "    \n",
    "class Square(Rectangle):\n",
    "    def __init__(self, s):\n",
    "        super().__init__(s, s)\n",
    "#     def perimeter(self):\n",
    "#         return super().perimeter()\n",
    "    \n",
    "    \n",
    "r = Rectangle(5,6)\n",
    "print(\"RECTANGLE\")\n",
    "print(\"Parameters are: \")\n",
    "\n",
    "print(\"Perimeter is: \",r.perimeter())\n",
    "print(\"Area is: \", r.area())\n",
    "\n",
    "print()\n",
    "\n",
    "s = Square(5)\n",
    "print(\"SQUARE\")\n",
    "print(\"Perimeter is: \",s.perimeter())\n",
    "print(\"Area is: \", s.area())"
   ]
  }
 ],
 "metadata": {
  "kernelspec": {
   "display_name": "Python 3 (ipykernel)",
   "language": "python",
   "name": "python3"
  },
  "language_info": {
   "codemirror_mode": {
    "name": "ipython",
    "version": 3
   },
   "file_extension": ".py",
   "mimetype": "text/x-python",
   "name": "python",
   "nbconvert_exporter": "python",
   "pygments_lexer": "ipython3",
   "version": "3.9.12"
  }
 },
 "nbformat": 4,
 "nbformat_minor": 5
}
