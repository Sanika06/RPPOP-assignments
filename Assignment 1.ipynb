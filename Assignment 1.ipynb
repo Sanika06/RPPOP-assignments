{
 "cells": [
  {
   "cell_type": "markdown",
   "id": "562a443e",
   "metadata": {},
   "source": [
    "<div align=\"center\">\n",
    "    <h1>Assignment 1</h1>\n",
    "    <h3>\n",
    "    Demonstration of different inheritance types with suitable examples as discussed in lecture\n",
    "    </h3>\n",
    "</div>"
   ]
  },
  {
   "cell_type": "code",
   "execution_count": 3,
   "id": "8c628f22",
   "metadata": {},
   "outputs": [
    {
     "name": "stdout",
     "output_type": "stream",
     "text": [
      "Donald is eating.\n",
      "Donald is swimming.\n",
      "Donald is flying.\n",
      "Buddy is a Golden Retriever dog with 4 legs.\n",
      "Whiskers is a White cat with 4 legs.\n"
     ]
    }
   ],
   "source": [
    "class Animal:\n",
    "    def __init__(self, name, age):\n",
    "        self.name = name\n",
    "        self.age = age\n",
    "\n",
    "    def get_info(self):\n",
    "        return f\"{self.name} is {self.age} years old.\"\n",
    "    \n",
    "    def eat(self):\n",
    "        print(f\"{self.name} is eating.\")\n",
    "\n",
    "# Single Inheritance\n",
    "class Mammal(Animal):\n",
    "    def __init__(self, name, age, num_legs):\n",
    "        super().__init__(name, age)\n",
    "        self.num_legs = num_legs\n",
    "\n",
    "    def get_info(self):\n",
    "        return f\"{self.name} is a mammal with {self.num_legs} legs.\"\n",
    "\n",
    "# Multilevel Inheritance\n",
    "class Dog(Mammal):\n",
    "    def __init__(self, name, age, breed):\n",
    "        super().__init__(name, age, 4)\n",
    "        self.breed = breed\n",
    "\n",
    "    def get_info(self):\n",
    "        return f\"{self.name} is a {self.breed} dog with {self.num_legs} legs.\"\n",
    "\n",
    "# Hierarchical Inheritance\n",
    "class Cat(Mammal):\n",
    "    def __init__(self, name, age, fur_color):\n",
    "        super().__init__(name, age, 4)\n",
    "        self.fur_color = fur_color\n",
    "\n",
    "    def get_info(self):\n",
    "        return f\"{self.name} is a {self.fur_color} cat with {self.num_legs} legs.\"\n",
    "\n",
    "my_dog = Dog(\"Buddy\", 3, \"Golden Retriever\")\n",
    "my_cat = Cat(\"Whiskers\", 2, \"White\")\n",
    "\n",
    "class CanSwim:\n",
    "    def swim(self):\n",
    "        print(f\"{self.name} is swimming.\")\n",
    "\n",
    "\n",
    "class CanFly:\n",
    "    def fly(self):\n",
    "        print(f\"{self.name} is flying.\")\n",
    "\n",
    "class Duck(Animal, CanSwim, CanFly):\n",
    "    def __init__(self, name):\n",
    "        super().__init__(name, 5)\n",
    "\n",
    "print(my_dog.get_info())    # Output: Buddy is a Golden Retriever dog with 4 legs.\n",
    "print(my_cat.get_info())    # Output: Whiskers is a White cat with 4 legs.\n",
    "my_duck = Duck(\"Donald\")\n",
    "my_duck.eat()    # Output: Donald is eating.\n",
    "my_duck.swim()   # Output: Donald is swimming.\n",
    "my_duck.fly()    # Output: Donald is flying."
   ]
  },
  {
   "cell_type": "code",
   "execution_count": null,
   "id": "039eae87",
   "metadata": {},
   "outputs": [],
   "source": []
  }
 ],
 "metadata": {
  "kernelspec": {
   "display_name": "Python 3 (ipykernel)",
   "language": "python",
   "name": "python3"
  },
  "language_info": {
   "codemirror_mode": {
    "name": "ipython",
    "version": 3
   },
   "file_extension": ".py",
   "mimetype": "text/x-python",
   "name": "python",
   "nbconvert_exporter": "python",
   "pygments_lexer": "ipython3",
   "version": "3.9.12"
  }
 },
 "nbformat": 4,
 "nbformat_minor": 5
}
